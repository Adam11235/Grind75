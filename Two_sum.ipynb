{
 "cells": [
  {
   "cell_type": "code",
   "execution_count": null,
   "metadata": {},
   "outputs": [],
   "source": [
    "# https://leetcode.com/problems/two-sum"
   ]
  },
  {
   "cell_type": "code",
   "execution_count": null,
   "metadata": {},
   "outputs": [
    {
     "name": "stdout",
     "output_type": "stream",
     "text": [
      "[1, 3]\n"
     ]
    }
   ],
   "source": [
    "# First take\n",
    "# iterative approach\n",
    "\n",
    "#O(n^2)\n",
    "\n",
    "def basic(t,target):\n",
    "    l = len(t)\n",
    "    if len(t) < 2 : return \n",
    "    for i in range(0,l-1):\n",
    "        for j in range(1,l):\n",
    "            if i == j: continue\n",
    "            if t[i]+t[j] == target: return [i,j]\n",
    "    return \n",
    "\n",
    "t = [1,5,9,4]\n",
    "print(basic(t,9))"
   ]
  },
  {
   "cell_type": "code",
   "execution_count": null,
   "metadata": {},
   "outputs": [
    {
     "name": "stdout",
     "output_type": "stream",
     "text": [
      "None\n"
     ]
    }
   ],
   "source": [
    "# Second take\n",
    "# iterative approach\n",
    "\n",
    "def basic(t,target):\n",
    "    l = len(t)\n",
    "    if len(t) < 2 : return \n",
    "    #pomysl na liniowa, skok od 1 do isqrt(n)+1\n",
    "    return \n",
    "\n",
    "t = [1,5,9,4]\n",
    "print(basic(t,9))"
   ]
  },
  {
   "cell_type": "code",
   "execution_count": 4,
   "metadata": {},
   "outputs": [
    {
     "name": "stdout",
     "output_type": "stream",
     "text": [
      "None\n"
     ]
    }
   ],
   "source": [
    "# First take\n",
    "# recursive approach\n",
    "\n",
    "def rek(t,target,pos):\n",
    "    l = len(t)\n",
    "    if pos == l: return\n",
    "    \n",
    "    for i in range(l):\n",
    "        if pos+i<len(t)-1:\n",
    "            if t[pos]+t[pos+i] == target:\n",
    "                return [pos,pos+i]\n",
    "        rek(t,target,pos+1)\n",
    "\n",
    "t = [1,5,9,4]\n",
    "print(rek(t,9,0))"
   ]
  }
 ],
 "metadata": {
  "kernelspec": {
   "display_name": "Python 3",
   "language": "python",
   "name": "python3"
  },
  "language_info": {
   "codemirror_mode": {
    "name": "ipython",
    "version": 3
   },
   "file_extension": ".py",
   "mimetype": "text/x-python",
   "name": "python",
   "nbconvert_exporter": "python",
   "pygments_lexer": "ipython3",
   "version": "3.11.9"
  }
 },
 "nbformat": 4,
 "nbformat_minor": 2
}
